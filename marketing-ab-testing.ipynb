{
 "cells": [
  {
   "cell_type": "code",
   "execution_count": 1,
   "id": "b73b5db2",
   "metadata": {
    "_cell_guid": "b1076dfc-b9ad-4769-8c92-a6c4dae69d19",
    "_uuid": "8f2839f25d086af736a60e9eeb907d3b93b6e0e5",
    "execution": {
     "iopub.execute_input": "2024-08-03T09:25:01.883083Z",
     "iopub.status.busy": "2024-08-03T09:25:01.882570Z",
     "iopub.status.idle": "2024-08-03T09:25:03.080425Z",
     "shell.execute_reply": "2024-08-03T09:25:03.079006Z"
    },
    "papermill": {
     "duration": 1.21252,
     "end_time": "2024-08-03T09:25:03.083505",
     "exception": false,
     "start_time": "2024-08-03T09:25:01.870985",
     "status": "completed"
    },
    "tags": []
   },
   "outputs": [
    {
     "name": "stdout",
     "output_type": "stream",
     "text": [
      "/kaggle/input/marketing-ab-testing/marketing_AB.csv\n"
     ]
    }
   ],
   "source": [
    "# This Python 3 environment comes with many helpful analytics libraries installed\n",
    "# It is defined by the kaggle/python Docker image: https://github.com/kaggle/docker-python\n",
    "# For example, here's several helpful packages to load\n",
    "\n",
    "import numpy as np # linear algebra\n",
    "import pandas as pd # data processing, CSV file I/O (e.g. pd.read_csv)\n",
    "\n",
    "# Input data files are available in the read-only \"../input/\" directory\n",
    "# For example, running this (by clicking run or pressing Shift+Enter) will list all files under the input directory\n",
    "\n",
    "import os\n",
    "for dirname, _, filenames in os.walk('/kaggle/input'):\n",
    "    for filename in filenames:\n",
    "        print(os.path.join(dirname, filename))\n",
    "\n",
    "# You can write up to 20GB to the current directory (/kaggle/working/) that gets preserved as output when you create a version using \"Save & Run All\" \n",
    "# You can also write temporary files to /kaggle/temp/, but they won't be saved outside of the current session"
   ]
  },
  {
   "cell_type": "markdown",
   "id": "a3e34ef2",
   "metadata": {
    "papermill": {
     "duration": 0.009102,
     "end_time": "2024-08-03T09:25:03.101364",
     "exception": false,
     "start_time": "2024-08-03T09:25:03.092262",
     "status": "completed"
    },
    "tags": []
   },
   "source": [
    "# Data Loading"
   ]
  },
  {
   "cell_type": "code",
   "execution_count": 2,
   "id": "d4fe3b88",
   "metadata": {
    "execution": {
     "iopub.execute_input": "2024-08-03T09:25:03.121155Z",
     "iopub.status.busy": "2024-08-03T09:25:03.120410Z",
     "iopub.status.idle": "2024-08-03T09:25:04.851144Z",
     "shell.execute_reply": "2024-08-03T09:25:04.849408Z"
    },
    "papermill": {
     "duration": 1.743789,
     "end_time": "2024-08-03T09:25:04.854147",
     "exception": false,
     "start_time": "2024-08-03T09:25:03.110358",
     "status": "completed"
    },
    "tags": []
   },
   "outputs": [],
   "source": [
    "import numpy as np\n",
    "import pandas as pd\n",
    "import matplotlib.pyplot as plt\n",
    "import seaborn as sns\n",
    "\n",
    "import warnings\n",
    "warnings.filterwarnings('ignore')"
   ]
  },
  {
   "cell_type": "code",
   "execution_count": 3,
   "id": "f484602a",
   "metadata": {
    "execution": {
     "iopub.execute_input": "2024-08-03T09:25:04.874530Z",
     "iopub.status.busy": "2024-08-03T09:25:04.872998Z",
     "iopub.status.idle": "2024-08-03T09:25:05.733774Z",
     "shell.execute_reply": "2024-08-03T09:25:05.732103Z"
    },
    "papermill": {
     "duration": 0.874308,
     "end_time": "2024-08-03T09:25:05.737189",
     "exception": false,
     "start_time": "2024-08-03T09:25:04.862881",
     "status": "completed"
    },
    "tags": []
   },
   "outputs": [
    {
     "name": "stdout",
     "output_type": "stream",
     "text": [
      "   Unnamed: 0  user id test group  converted  total ads most ads day  \\\n",
      "0           0  1069124         ad      False        130       Monday   \n",
      "1           1  1119715         ad      False         93      Tuesday   \n",
      "2           2  1144181         ad      False         21      Tuesday   \n",
      "3           3  1435133         ad      False        355      Tuesday   \n",
      "4           4  1015700         ad      False        276       Friday   \n",
      "\n",
      "   most ads hour  \n",
      "0             20  \n",
      "1             22  \n",
      "2             18  \n",
      "3             10  \n",
      "4             14  \n"
     ]
    }
   ],
   "source": [
    "df = pd.read_csv('/kaggle/input/marketing-ab-testing/marketing_AB.csv')\n",
    "print(df.head())"
   ]
  },
  {
   "cell_type": "code",
   "execution_count": 4,
   "id": "00b1b239",
   "metadata": {
    "execution": {
     "iopub.execute_input": "2024-08-03T09:25:05.757899Z",
     "iopub.status.busy": "2024-08-03T09:25:05.757440Z",
     "iopub.status.idle": "2024-08-03T09:25:05.800172Z",
     "shell.execute_reply": "2024-08-03T09:25:05.798948Z"
    },
    "papermill": {
     "duration": 0.056582,
     "end_time": "2024-08-03T09:25:05.802878",
     "exception": false,
     "start_time": "2024-08-03T09:25:05.746296",
     "status": "completed"
    },
    "tags": []
   },
   "outputs": [
    {
     "data": {
      "text/plain": [
       "0"
      ]
     },
     "execution_count": 4,
     "metadata": {},
     "output_type": "execute_result"
    }
   ],
   "source": [
    "df.duplicated(subset='user id').sum()"
   ]
  },
  {
   "cell_type": "code",
   "execution_count": 5,
   "id": "aae20374",
   "metadata": {
    "execution": {
     "iopub.execute_input": "2024-08-03T09:25:05.823096Z",
     "iopub.status.busy": "2024-08-03T09:25:05.822685Z",
     "iopub.status.idle": "2024-08-03T09:25:05.856167Z",
     "shell.execute_reply": "2024-08-03T09:25:05.854980Z"
    },
    "papermill": {
     "duration": 0.046924,
     "end_time": "2024-08-03T09:25:05.858879",
     "exception": false,
     "start_time": "2024-08-03T09:25:05.811955",
     "status": "completed"
    },
    "tags": []
   },
   "outputs": [
    {
     "name": "stdout",
     "output_type": "stream",
     "text": [
      "Index(['test group', 'converted', 'total ads', 'most ads day',\n",
      "       'most ads hour'],\n",
      "      dtype='object')\n"
     ]
    }
   ],
   "source": [
    "df.drop(['Unnamed: 0', 'user id'], axis=1, inplace=True)\n",
    "print(df.columns)"
   ]
  },
  {
   "cell_type": "markdown",
   "id": "40857852",
   "metadata": {
    "papermill": {
     "duration": 0.008655,
     "end_time": "2024-08-03T09:25:05.876455",
     "exception": false,
     "start_time": "2024-08-03T09:25:05.867800",
     "status": "completed"
    },
    "tags": []
   },
   "source": [
    "# EDA"
   ]
  },
  {
   "cell_type": "code",
   "execution_count": 6,
   "id": "a3329137",
   "metadata": {
    "execution": {
     "iopub.execute_input": "2024-08-03T09:25:05.898356Z",
     "iopub.status.busy": "2024-08-03T09:25:05.897438Z",
     "iopub.status.idle": "2024-08-03T09:25:05.914751Z",
     "shell.execute_reply": "2024-08-03T09:25:05.913316Z"
    },
    "papermill": {
     "duration": 0.031228,
     "end_time": "2024-08-03T09:25:05.917658",
     "exception": false,
     "start_time": "2024-08-03T09:25:05.886430",
     "status": "completed"
    },
    "tags": []
   },
   "outputs": [
    {
     "data": {
      "text/html": [
       "<div>\n",
       "<style scoped>\n",
       "    .dataframe tbody tr th:only-of-type {\n",
       "        vertical-align: middle;\n",
       "    }\n",
       "\n",
       "    .dataframe tbody tr th {\n",
       "        vertical-align: top;\n",
       "    }\n",
       "\n",
       "    .dataframe thead th {\n",
       "        text-align: right;\n",
       "    }\n",
       "</style>\n",
       "<table border=\"1\" class=\"dataframe\">\n",
       "  <thead>\n",
       "    <tr style=\"text-align: right;\">\n",
       "      <th></th>\n",
       "      <th>test group</th>\n",
       "      <th>converted</th>\n",
       "      <th>total ads</th>\n",
       "      <th>most ads day</th>\n",
       "      <th>most ads hour</th>\n",
       "    </tr>\n",
       "  </thead>\n",
       "  <tbody>\n",
       "    <tr>\n",
       "      <th>0</th>\n",
       "      <td>ad</td>\n",
       "      <td>False</td>\n",
       "      <td>130</td>\n",
       "      <td>Monday</td>\n",
       "      <td>20</td>\n",
       "    </tr>\n",
       "    <tr>\n",
       "      <th>1</th>\n",
       "      <td>ad</td>\n",
       "      <td>False</td>\n",
       "      <td>93</td>\n",
       "      <td>Tuesday</td>\n",
       "      <td>22</td>\n",
       "    </tr>\n",
       "    <tr>\n",
       "      <th>2</th>\n",
       "      <td>ad</td>\n",
       "      <td>False</td>\n",
       "      <td>21</td>\n",
       "      <td>Tuesday</td>\n",
       "      <td>18</td>\n",
       "    </tr>\n",
       "    <tr>\n",
       "      <th>3</th>\n",
       "      <td>ad</td>\n",
       "      <td>False</td>\n",
       "      <td>355</td>\n",
       "      <td>Tuesday</td>\n",
       "      <td>10</td>\n",
       "    </tr>\n",
       "    <tr>\n",
       "      <th>4</th>\n",
       "      <td>ad</td>\n",
       "      <td>False</td>\n",
       "      <td>276</td>\n",
       "      <td>Friday</td>\n",
       "      <td>14</td>\n",
       "    </tr>\n",
       "  </tbody>\n",
       "</table>\n",
       "</div>"
      ],
      "text/plain": [
       "  test group  converted  total ads most ads day  most ads hour\n",
       "0         ad      False        130       Monday             20\n",
       "1         ad      False         93      Tuesday             22\n",
       "2         ad      False         21      Tuesday             18\n",
       "3         ad      False        355      Tuesday             10\n",
       "4         ad      False        276       Friday             14"
      ]
     },
     "execution_count": 6,
     "metadata": {},
     "output_type": "execute_result"
    }
   ],
   "source": [
    "df.head(5)"
   ]
  },
  {
   "cell_type": "code",
   "execution_count": 7,
   "id": "a52aa696",
   "metadata": {
    "execution": {
     "iopub.execute_input": "2024-08-03T09:25:05.938669Z",
     "iopub.status.busy": "2024-08-03T09:25:05.938211Z",
     "iopub.status.idle": "2024-08-03T09:25:05.948341Z",
     "shell.execute_reply": "2024-08-03T09:25:05.946766Z"
    },
    "papermill": {
     "duration": 0.024745,
     "end_time": "2024-08-03T09:25:05.951977",
     "exception": false,
     "start_time": "2024-08-03T09:25:05.927232",
     "status": "completed"
    },
    "tags": []
   },
   "outputs": [
    {
     "data": {
      "text/plain": [
       "test group       object\n",
       "converted          bool\n",
       "total ads         int64\n",
       "most ads day     object\n",
       "most ads hour     int64\n",
       "dtype: object"
      ]
     },
     "execution_count": 7,
     "metadata": {},
     "output_type": "execute_result"
    }
   ],
   "source": [
    "df.dtypes"
   ]
  },
  {
   "cell_type": "code",
   "execution_count": 8,
   "id": "f6d81686",
   "metadata": {
    "execution": {
     "iopub.execute_input": "2024-08-03T09:25:05.975575Z",
     "iopub.status.busy": "2024-08-03T09:25:05.975139Z",
     "iopub.status.idle": "2024-08-03T09:25:06.131085Z",
     "shell.execute_reply": "2024-08-03T09:25:06.129807Z"
    },
    "papermill": {
     "duration": 0.170665,
     "end_time": "2024-08-03T09:25:06.134094",
     "exception": false,
     "start_time": "2024-08-03T09:25:05.963429",
     "status": "completed"
    },
    "tags": []
   },
   "outputs": [
    {
     "name": "stdout",
     "output_type": "stream",
     "text": [
      "<class 'pandas.core.frame.DataFrame'>\n",
      "RangeIndex: 588101 entries, 0 to 588100\n",
      "Data columns (total 5 columns):\n",
      " #   Column         Non-Null Count   Dtype \n",
      "---  ------         --------------   ----- \n",
      " 0   test group     588101 non-null  object\n",
      " 1   converted      588101 non-null  bool  \n",
      " 2   total ads      588101 non-null  int64 \n",
      " 3   most ads day   588101 non-null  object\n",
      " 4   most ads hour  588101 non-null  int64 \n",
      "dtypes: bool(1), int64(2), object(2)\n",
      "memory usage: 18.5+ MB\n"
     ]
    }
   ],
   "source": [
    "df.info()"
   ]
  },
  {
   "cell_type": "code",
   "execution_count": 9,
   "id": "4385c53b",
   "metadata": {
    "execution": {
     "iopub.execute_input": "2024-08-03T09:25:06.155210Z",
     "iopub.status.busy": "2024-08-03T09:25:06.154771Z",
     "iopub.status.idle": "2024-08-03T09:25:06.162469Z",
     "shell.execute_reply": "2024-08-03T09:25:06.161315Z"
    },
    "papermill": {
     "duration": 0.021604,
     "end_time": "2024-08-03T09:25:06.165364",
     "exception": false,
     "start_time": "2024-08-03T09:25:06.143760",
     "status": "completed"
    },
    "tags": []
   },
   "outputs": [
    {
     "data": {
      "text/plain": [
       "(588101, 5)"
      ]
     },
     "execution_count": 9,
     "metadata": {},
     "output_type": "execute_result"
    }
   ],
   "source": [
    "df.shape"
   ]
  },
  {
   "cell_type": "code",
   "execution_count": 10,
   "id": "39c9b502",
   "metadata": {
    "execution": {
     "iopub.execute_input": "2024-08-03T09:25:06.186390Z",
     "iopub.status.busy": "2024-08-03T09:25:06.185838Z",
     "iopub.status.idle": "2024-08-03T09:25:06.304419Z",
     "shell.execute_reply": "2024-08-03T09:25:06.303034Z"
    },
    "papermill": {
     "duration": 0.133033,
     "end_time": "2024-08-03T09:25:06.308059",
     "exception": false,
     "start_time": "2024-08-03T09:25:06.175026",
     "status": "completed"
    },
    "tags": []
   },
   "outputs": [
    {
     "name": "stdout",
     "output_type": "stream",
     "text": [
      "['ad' 'psa']\n",
      "[False  True]\n",
      "['Monday' 'Tuesday' 'Friday' 'Saturday' 'Wednesday' 'Sunday' 'Thursday']\n",
      "[20 22 18 10 14 13 19 11 12 16 21  3 23  4  8  0  2 15  1  6 17  7  9  5]\n"
     ]
    }
   ],
   "source": [
    "print(df['test group'].unique())\n",
    "print(df['converted'].unique())\n",
    "print(df['most ads day'].unique())\n",
    "print(df['most ads hour'].unique())"
   ]
  },
  {
   "cell_type": "code",
   "execution_count": 11,
   "id": "aedc52fb",
   "metadata": {
    "execution": {
     "iopub.execute_input": "2024-08-03T09:25:06.329568Z",
     "iopub.status.busy": "2024-08-03T09:25:06.329008Z",
     "iopub.status.idle": "2024-08-03T09:25:06.488592Z",
     "shell.execute_reply": "2024-08-03T09:25:06.487097Z"
    },
    "papermill": {
     "duration": 0.173971,
     "end_time": "2024-08-03T09:25:06.491746",
     "exception": false,
     "start_time": "2024-08-03T09:25:06.317775",
     "status": "completed"
    },
    "tags": []
   },
   "outputs": [
    {
     "data": {
      "text/plain": [
       "test group       0\n",
       "converted        0\n",
       "total ads        0\n",
       "most ads day     0\n",
       "most ads hour    0\n",
       "dtype: int64"
      ]
     },
     "execution_count": 11,
     "metadata": {},
     "output_type": "execute_result"
    }
   ],
   "source": [
    "df.isna().sum()"
   ]
  },
  {
   "cell_type": "markdown",
   "id": "d1b0297b",
   "metadata": {
    "papermill": {
     "duration": 0.009394,
     "end_time": "2024-08-03T09:25:06.512469",
     "exception": false,
     "start_time": "2024-08-03T09:25:06.503075",
     "status": "completed"
    },
    "tags": []
   },
   "source": [
    "# Data Preprosssing"
   ]
  },
  {
   "cell_type": "code",
   "execution_count": 12,
   "id": "715e203a",
   "metadata": {
    "execution": {
     "iopub.execute_input": "2024-08-03T09:25:06.534347Z",
     "iopub.status.busy": "2024-08-03T09:25:06.533937Z",
     "iopub.status.idle": "2024-08-03T09:25:06.547792Z",
     "shell.execute_reply": "2024-08-03T09:25:06.546307Z"
    },
    "papermill": {
     "duration": 0.028956,
     "end_time": "2024-08-03T09:25:06.551028",
     "exception": false,
     "start_time": "2024-08-03T09:25:06.522072",
     "status": "completed"
    },
    "tags": []
   },
   "outputs": [
    {
     "data": {
      "text/plain": [
       "test group       object\n",
       "converted         int64\n",
       "total ads         int64\n",
       "most ads day     object\n",
       "most ads hour     int64\n",
       "dtype: object"
      ]
     },
     "execution_count": 12,
     "metadata": {},
     "output_type": "execute_result"
    }
   ],
   "source": [
    "df['converted'] = df['converted'].astype(int)\n",
    "df.dtypes"
   ]
  },
  {
   "cell_type": "markdown",
   "id": "9ac0e111",
   "metadata": {
    "papermill": {
     "duration": 0.014017,
     "end_time": "2024-08-03T09:25:06.576519",
     "exception": false,
     "start_time": "2024-08-03T09:25:06.562502",
     "status": "completed"
    },
    "tags": []
   },
   "source": [
    "# Data Visualization"
   ]
  },
  {
   "cell_type": "code",
   "execution_count": 13,
   "id": "aa7fde08",
   "metadata": {
    "execution": {
     "iopub.execute_input": "2024-08-03T09:25:06.602882Z",
     "iopub.status.busy": "2024-08-03T09:25:06.602425Z",
     "iopub.status.idle": "2024-08-03T09:25:07.016583Z",
     "shell.execute_reply": "2024-08-03T09:25:07.015246Z"
    },
    "papermill": {
     "duration": 0.430358,
     "end_time": "2024-08-03T09:25:07.019208",
     "exception": false,
     "start_time": "2024-08-03T09:25:06.588850",
     "status": "completed"
    },
    "tags": []
   },
   "outputs": [
    {
     "data": {
      "image/png": "[encoded data removed]",
      "text/plain": [
       "<Figure size 800x600 with 1 Axes>"
      ]
     },
     "metadata": {},
     "output_type": "display_data"
    }
   ],
   "source": [
    "conversion_rates = df.groupby('test group')['converted'].mean().reset_index()\n",
    "conversion_rates.columns = ['Test Group', 'Conversion Rate']\n",
    "plt.figure(figsize = (8,6))\n",
    "sns.barplot(data=conversion_rates, x='Test Group', y='Conversion Rate')\n",
    "plt.title('Conversion Rates for Control and Test Groups')\n",
    "plt.xlabel('Test Group')\n",
    "plt.ylabel('Conversion Rate')\n",
    "plt.show()"
   ]
  },
  {
   "cell_type": "code",
   "execution_count": 14,
   "id": "6ae6fe11",
   "metadata": {
    "execution": {
     "iopub.execute_input": "2024-08-03T09:25:07.044003Z",
     "iopub.status.busy": "2024-08-03T09:25:07.043514Z",
     "iopub.status.idle": "2024-08-03T09:25:07.524267Z",
     "shell.execute_reply": "2024-08-03T09:25:07.523021Z"
    },
    "papermill": {
     "duration": 0.497739,
     "end_time": "2024-08-03T09:25:07.527775",
     "exception": false,
     "start_time": "2024-08-03T09:25:07.030036",
     "status": "completed"
    },
    "tags": []
   },
   "outputs": [
    {
     "data": {
      "image/png": "[encoded data removed]",
      "text/plain": [
       "<Figure size 800x600 with 1 Axes>"
      ]
     },
     "metadata": {},
     "output_type": "display_data"
    }
   ],
   "source": [
    "conversion_rates = df.groupby('most ads day')['converted'].mean().reset_index()\n",
    "conversion_rates.columns = ['most ads day', 'Conversion Rate']\n",
    "plt.figure(figsize = (8,6))\n",
    "sns.barplot(data=conversion_rates, x='most ads day', y='Conversion Rate')\n",
    "plt.title('Conversion Rates by Day with Most Ads Seen')\n",
    "plt.xlabel('Day of the week')\n",
    "plt.ylabel('Conversion Rate')\n",
    "plt.show()"
   ]
  },
  {
   "cell_type": "code",
   "execution_count": 15,
   "id": "2146ccbc",
   "metadata": {
    "execution": {
     "iopub.execute_input": "2024-08-03T09:25:07.551400Z",
     "iopub.status.busy": "2024-08-03T09:25:07.550973Z",
     "iopub.status.idle": "2024-08-03T09:25:08.055667Z",
     "shell.execute_reply": "2024-08-03T09:25:08.053829Z"
    },
    "papermill": {
     "duration": 0.5197,
     "end_time": "2024-08-03T09:25:08.058498",
     "exception": false,
     "start_time": "2024-08-03T09:25:07.538798",
     "status": "completed"
    },
    "tags": []
   },
   "outputs": [
    {
     "data": {
      "image/png": "[encoded data removed]",
      "text/plain": [
       "<Figure size 1000x600 with 1 Axes>"
      ]
     },
     "metadata": {},
     "output_type": "display_data"
    }
   ],
   "source": [
    "conversion_rates = df.groupby('most ads hour')['converted'].mean().reset_index()\n",
    "conversion_rates.columns = ['most ads hour', 'Conversion Rate']\n",
    "plt.figure(figsize = (10,6))\n",
    "sns.barplot(data=conversion_rates, x='most ads hour', y='Conversion Rate')\n",
    "plt.title('Conversion Rates by Hour with Most Ads Seen')\n",
    "plt.xlabel('Hour of the Day')\n",
    "plt.ylabel('Conversion Rate')\n",
    "plt.show()"
   ]
  },
  {
   "cell_type": "code",
   "execution_count": 16,
   "id": "9b83a80b",
   "metadata": {
    "execution": {
     "iopub.execute_input": "2024-08-03T09:25:08.083737Z",
     "iopub.status.busy": "2024-08-03T09:25:08.083281Z",
     "iopub.status.idle": "2024-08-03T09:25:08.470389Z",
     "shell.execute_reply": "2024-08-03T09:25:08.468482Z"
    },
    "papermill": {
     "duration": 0.404268,
     "end_time": "2024-08-03T09:25:08.474531",
     "exception": false,
     "start_time": "2024-08-03T09:25:08.070263",
     "status": "completed"
    },
    "tags": []
   },
   "outputs": [
    {
     "data": {
      "image/png": "[encoded data removed]",
      "text/plain": [
       "<Figure size 1000x600 with 1 Axes>"
      ]
     },
     "metadata": {},
     "output_type": "display_data"
    }
   ],
   "source": [
    "df_subset = df[df['total ads'] < 50].copy()\n",
    "df_subset.loc[:, 'total_ads_bin'] = pd.cut(df_subset['total ads'], bins=[-1,10, 20, 30, 40, 50], \n",
    "                                           labels=['0-10', '10-20', '20-30', '30-40', '40-50'])\n",
    "\n",
    "ads_conversion_rate_bin = df_subset.groupby('total_ads_bin')['converted'].mean().reset_index()\n",
    "plt.figure(figsize = (10,6))\n",
    "sns.barplot(data=ads_conversion_rate_bin, x='total_ads_bin', y='converted')\n",
    "plt.title('Conversion Rates by Total Ads Seen (Binned) - Total Ads < 50')\n",
    "plt.xlabel('Total Ads Seen (Binned)')\n",
    "plt.ylabel('Conversion Rate')\n",
    "plt.show()"
   ]
  },
  {
   "cell_type": "markdown",
   "id": "a1840282",
   "metadata": {
    "papermill": {
     "duration": 0.013067,
     "end_time": "2024-08-03T09:25:08.501262",
     "exception": false,
     "start_time": "2024-08-03T09:25:08.488195",
     "status": "completed"
    },
    "tags": []
   },
   "source": [
    "# **Statistical Testing**"
   ]
  },
  {
   "cell_type": "code",
   "execution_count": 17,
   "id": "50db115e",
   "metadata": {
    "execution": {
     "iopub.execute_input": "2024-08-03T09:25:08.527411Z",
     "iopub.status.busy": "2024-08-03T09:25:08.527009Z",
     "iopub.status.idle": "2024-08-03T09:25:08.796287Z",
     "shell.execute_reply": "2024-08-03T09:25:08.795073Z"
    },
    "papermill": {
     "duration": 0.285562,
     "end_time": "2024-08-03T09:25:08.799153",
     "exception": false,
     "start_time": "2024-08-03T09:25:08.513591",
     "status": "completed"
    },
    "tags": []
   },
   "outputs": [
    {
     "name": "stdout",
     "output_type": "stream",
     "text": [
      "t-Test Result: t-statistic=7.37040597428566, P-value=1.7033052627831264e-13\n"
     ]
    }
   ],
   "source": [
    "#1 t-test\n",
    "\n",
    "from scipy import stats\n",
    "\n",
    "control_group = df[df['test group'] == 'psa']\n",
    "test_group = df[df['test group'] == 'ad']\n",
    "\n",
    "t_stat, p_val = stats.ttest_ind(test_group['converted'], control_group['converted'])\n",
    "print(f\"t-Test Result: t-statistic={t_stat}, P-value={p_val}\")"
   ]
  },
  {
   "cell_type": "code",
   "execution_count": 18,
   "id": "4b22ee58",
   "metadata": {
    "execution": {
     "iopub.execute_input": "2024-08-03T09:25:08.825419Z",
     "iopub.status.busy": "2024-08-03T09:25:08.824991Z",
     "iopub.status.idle": "2024-08-03T09:25:08.831532Z",
     "shell.execute_reply": "2024-08-03T09:25:08.829916Z"
    },
    "papermill": {
     "duration": 0.023588,
     "end_time": "2024-08-03T09:25:08.834949",
     "exception": false,
     "start_time": "2024-08-03T09:25:08.811361",
     "status": "completed"
    },
    "tags": []
   },
   "outputs": [
    {
     "name": "stdout",
     "output_type": "stream",
     "text": [
      "Reject the null hypothesis: the 'ad' group is better.\n"
     ]
    }
   ],
   "source": [
    "alpha = 0.05\n",
    "if p_val<alpha:\n",
    "    print(\"Reject the null hypothesis: the 'ad' group is better.\")\n",
    "else:\n",
    "    print(\"Fail to reject the null hypothesis: there is not evidence show the 'ad' group is better than 'psa' group.\")"
   ]
  },
  {
   "cell_type": "code",
   "execution_count": 19,
   "id": "6b5b747f",
   "metadata": {
    "execution": {
     "iopub.execute_input": "2024-08-03T09:25:08.862181Z",
     "iopub.status.busy": "2024-08-03T09:25:08.861743Z",
     "iopub.status.idle": "2024-08-03T09:25:09.197349Z",
     "shell.execute_reply": "2024-08-03T09:25:09.195520Z"
    },
    "papermill": {
     "duration": 0.353271,
     "end_time": "2024-08-03T09:25:09.200712",
     "exception": false,
     "start_time": "2024-08-03T09:25:08.847441",
     "status": "completed"
    },
    "tags": []
   },
   "outputs": [
    {
     "name": "stdout",
     "output_type": "stream",
     "text": [
      "\n",
      "Chi-squared test for total ads vs. converted: \n",
      "Chi-squared value: 48001.99019466958\n",
      "p-value: 0.0\n",
      "The difference in conversion rate across total ads is statistically significant\n",
      "\n",
      "Chi-squared test for most ads day vs. converted: \n",
      "Chi-squared value: 410.0478857936585\n",
      "p-value: 1.932184379244731e-85\n",
      "The difference in conversion rate across most ads day is statistically significant\n",
      "\n",
      "Chi-squared test for most ads hour vs. converted: \n",
      "Chi-squared value: 430.76869230822086\n",
      "p-value: 8.027629823696771e-77\n",
      "The difference in conversion rate across most ads hour is statistically significant\n"
     ]
    }
   ],
   "source": [
    "#2 chi^2 test\n",
    "from scipy.stats import chi2_contingency\n",
    "\n",
    "for column in df.columns:\n",
    "    if column not in ['test group', 'converted']:\n",
    "        contingency_table = pd.crosstab(df[column], df['converted'])\n",
    "        \n",
    "        chi2, p_value, _, _ = chi2_contingency(contingency_table)\n",
    "        \n",
    "        print(f\"\\nChi-squared test for {column} vs. converted: \")\n",
    "        print(f\"Chi-squared value: {chi2}\")\n",
    "        print(f\"p-value: {p_value}\")\n",
    "        \n",
    "        if p_value<alpha:\n",
    "            print(f\"The difference in conversion rate across {column} is statistically significant\")\n",
    "        else:\n",
    "            print(f\"There is no significant difference in conversion rate across {column}\")\n",
    "            "
   ]
  },
  {
   "cell_type": "code",
   "execution_count": 20,
   "id": "f7c20267",
   "metadata": {
    "execution": {
     "iopub.execute_input": "2024-08-03T09:25:09.228760Z",
     "iopub.status.busy": "2024-08-03T09:25:09.227558Z",
     "iopub.status.idle": "2024-08-03T09:25:09.289271Z",
     "shell.execute_reply": "2024-08-03T09:25:09.287868Z"
    },
    "papermill": {
     "duration": 0.078155,
     "end_time": "2024-08-03T09:25:09.292006",
     "exception": false,
     "start_time": "2024-08-03T09:25:09.213851",
     "status": "completed"
    },
    "tags": []
   },
   "outputs": [
    {
     "name": "stdout",
     "output_type": "stream",
     "text": [
      "Total Ads (Binned) Analysis - F-statistic: 1858.7880783289397, P-value: 0.0\n",
      "The difference in conversion rate across total ads is statistically significant\n"
     ]
    }
   ],
   "source": [
    "#3 ANOVA test\n",
    "\n",
    "anova_result = stats.f_oneway(\n",
    "    df_subset[df_subset['total_ads_bin'] == '0-10']['converted'],\n",
    "    df_subset[df_subset['total_ads_bin'] == '10-20']['converted'],\n",
    "    df_subset[df_subset['total_ads_bin'] == '20-30']['converted'],\n",
    "    df_subset[df_subset['total_ads_bin'] == '30-40']['converted'],\n",
    "    df_subset[df_subset['total_ads_bin'] == '40-50']['converted']\n",
    ")\n",
    "\n",
    "print(f\"Total Ads (Binned) Analysis - F-statistic: {anova_result.statistic}, P-value: {anova_result.pvalue}\")\n",
    "\n",
    "if anova_result.pvalue<alpha:\n",
    "    print(f\"The difference in conversion rate across total ads is statistically significant\")\n",
    "else:\n",
    "    print(f\"There is no significant difference in conversion rate across total ads\")"
   ]
  }
 ],
 "metadata": {
  "kaggle": {
   "accelerator": "none",
   "dataSources": [
    {
     "datasetId": 1660669,
     "sourceId": 2724653,
     "sourceType": "datasetVersion"
    }
   ],
   "dockerImageVersionId": 30746,
   "isGpuEnabled": false,
   "isInternetEnabled": false,
   "language": "python",
   "sourceType": "notebook"
  },
  "kernelspec": {
   "display_name": "Python 3",
   "language": "python",
   "name": "python3"
  },
  "language_info": {
   "codemirror_mode": {
    "name": "ipython",
    "version": 3
   },
   "file_extension": ".py",
   "mimetype": "text/x-python",
   "name": "python",
   "nbconvert_exporter": "python",
   "pygments_lexer": "ipython3",
   "version": "3.10.13"
  },
  "papermill": {
   "default_parameters": {},
   "duration": 11.427429,
   "end_time": "2024-08-03T09:25:09.928577",
   "environment_variables": {},
   "exception": null,
   "input_path": "__notebook__.ipynb",
   "output_path": "__notebook__.ipynb",
   "parameters": {},
   "start_time": "2024-08-03T09:24:58.501148",
   "version": "2.5.0"
  }
 },
 "nbformat": 4,
 "nbformat_minor": 5
}
